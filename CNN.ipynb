{
 "cells": [
  {
   "cell_type": "code",
   "execution_count": 1,
   "id": "532a29a1-0264-481e-b74b-c9b14d91c454",
   "metadata": {},
   "outputs": [],
   "source": [
    "import os\n",
    "os.environ['TF_CPP_MIN_LOG_LEVEL'] = '1'  # or any level higher than 0\n",
    "import cv2\n",
    "import numpy as np\n",
    "import tensorflow as tf\n",
    "from tensorflow import keras\n",
    "from tensorflow.keras import layers, models\n",
    "import matplotlib.pyplot as plt\n",
    "from sklearn.utils import shuffle\n",
    "from sklearn.metrics import accuracy_score, f1_score, recall_score\n",
    "from sklearn.model_selection import train_test_split"
   ]
  },
  {
   "cell_type": "code",
   "execution_count": 2,
   "id": "1847e34d-0744-4999-8574-583539e2a840",
   "metadata": {},
   "outputs": [],
   "source": [
    "def load_images_from_directory(directory, label, num_images):\n",
    "    images = []\n",
    "    labels = []\n",
    "    count = 0\n",
    "    for file in os.listdir(directory):\n",
    "        if count >= num_images:\n",
    "            break\n",
    "        img_path = os.path.join(directory, file)\n",
    "        img = cv2.imread(img_path)\n",
    "        img = cv2.cvtColor(img, cv2.COLOR_BGR2RGB)  # Convert to RGB format\n",
    "        images.append(img)\n",
    "        labels.append(label)\n",
    "        count += 1\n",
    "    return np.array(images), np.array(labels)"
   ]
  },
  {
   "cell_type": "code",
   "execution_count": 3,
   "id": "0da9de62-919f-439f-9de7-34e2077085b6",
   "metadata": {},
   "outputs": [],
   "source": [
    "#Load training and testing datasets\n",
    "train_real_dir = '/Users/nithinreddynagapur/Downloads/archive/real-vs-fake/train/real'\n",
    "train_fake_dir = '/Users/nithinreddynagapur/Downloads/archive/real-vs-fake/train/fake'\n",
    "test_real_dir = '/Users/nithinreddynagapur/Downloads/archive/real-vs-fake/test/real'\n",
    "test_fake_dir = '/Users/nithinreddynagapur/Downloads/archive/real-vs-fake/test/fake'"
   ]
  },
  {
   "cell_type": "code",
   "execution_count": 4,
   "id": "e5315109-d4f0-4eaf-99c8-2d7b68a4656e",
   "metadata": {},
   "outputs": [],
   "source": [
    "num_images = 150\n",
    "real_train, real_train_labels = load_images_from_directory(train_real_dir, 0, num_images)\n",
    "fake_train, fake_train_labels = load_images_from_directory(train_fake_dir, 1, num_images)\n",
    "\n",
    "real_test, real_test_labels = load_images_from_directory(test_real_dir, 0, num_images)\n",
    "fake_test, fake_test_labels = load_images_from_directory(test_fake_dir, 1, num_images)\n",
    "\n",
    "real_valid, real_test_valid = load_images_from_directory(valid_real_dir, 0, num_images)\n",
    "fake_valid, fake_test_valid = load_images_from_directory(valid_fake_dir, 1, num_images)\n",
    "\n",
    "# Combine real and fake images to form the final training and testing sets\n",
    "X_train = np.concatenate((real_train, fake_train), axis=0)\n",
    "y_train = np.concatenate((real_train_labels, fake_train_labels), axis=0)\n",
    "\n",
    "X_test = np.concatenate((real_test, fake_test), axis=0)\n",
    "y_test = np.concatenate((real_test_labels, fake_test_labels), axis=0)\n",
    "\n",
    "X_valid = np.concatenate((real_valid, fake_valid), axis=0)\n",
    "y_valid = np.concatenate((real_test_valid, fake_test_valid), axis=0)\n",
    "\n",
    "# Shuffle the data to ensure a random distribution of real and fake images\n",
    "X_train, y_train = shuffle(X_train, y_train, random_state=42)\n",
    "X_test, y_test = shuffle(X_test, y_test, random_state=42)"
   ]
  },
  {
   "cell_type": "code",
   "execution_count": 11,
   "id": "1abc453e-3c5b-4871-9ae6-142f5f45e63e",
   "metadata": {},
   "outputs": [
    {
     "data": {
      "text/plain": [
       "(300, 256, 256, 3)"
      ]
     },
     "execution_count": 11,
     "metadata": {},
     "output_type": "execute_result"
    }
   ],
   "source": [
    "X_train.shape"
   ]
  },
  {
   "cell_type": "code",
   "execution_count": 12,
   "id": "1080b474-997c-454e-a48e-9798f768fbb4",
   "metadata": {},
   "outputs": [
    {
     "data": {
      "text/plain": [
       "(256, 256, 3)"
      ]
     },
     "execution_count": 12,
     "metadata": {},
     "output_type": "execute_result"
    }
   ],
   "source": [
    "X_train.shape[1], X_train.shape[2], X_train.shape[3]"
   ]
  },
  {
   "cell_type": "code",
   "execution_count": 31,
   "id": "82d6c632-75e2-45e3-9b95-ff3516f48481",
   "metadata": {},
   "outputs": [],
   "source": [
    "def create_cnn(input_shape):\n",
    "    model = models.Sequential()\n",
    "    \n",
    "    model.add(layers.Conv2D(32, (3, 3), activation='relu', input_shape=input_shape))\n",
    "    model.add(layers.BatchNormalization())\n",
    "    model.add(layers.MaxPooling2D((2, 2)))\n",
    "    model.add(layers.Dropout(0.5))\n",
    "    \n",
    "    model.add(layers.Conv2D(64, (3, 3), activation='relu'))\n",
    "    model.add(layers.BatchNormalization())\n",
    "    model.add(layers.MaxPooling2D((2, 2)))\n",
    "    model.add(layers.Dropout(0.5))\n",
    "    \n",
    "    model.add(layers.Conv2D(128, (3, 3), activation='relu'))\n",
    "    model.add(layers.BatchNormalization())\n",
    "    model.add(layers.MaxPooling2D((2, 2)))\n",
    "    model.add(layers.Dropout(0.5))\n",
    "    \n",
    "    model.add(layers.Flatten())\n",
    "    \n",
    "    model.add(layers.Dense(256, activation='relu'))\n",
    "    model.add(layers.BatchNormalization())\n",
    "    model.add(layers.Dropout(0.5))\n",
    "    \n",
    "    model.add(layers.Dense(1, activation='softmax'))\n",
    "\n",
    "    return model"
   ]
  },
  {
   "cell_type": "code",
   "execution_count": 32,
   "id": "7efb9ede-4320-4966-9ac7-4d90aecc6a9f",
   "metadata": {},
   "outputs": [],
   "source": [
    "input_shape = (X_train.shape[1], X_train.shape[2], X_train.shape[3])"
   ]
  },
  {
   "cell_type": "code",
   "execution_count": 33,
   "id": "e9f2f6f2-0c18-48d4-a9ea-d6ecdf0a2f9e",
   "metadata": {},
   "outputs": [],
   "source": [
    "model = create_cnn(input_shape)\n",
    "\n",
    "import tensorflow as tf\n",
    "from tensorflow.keras.optimizers import Adam\n",
    "from tensorflow.keras.optimizers import SGD\n",
    "\n",
    "  # Set your desired learning rate here\n",
    "optimizer = Adam(learning_rate = 0.001)\n",
    "\n",
    "model.compile(optimizer=optimizer, loss='binary_crossentropy', metrics=['accuracy'])\n",
    "\n",
    "from keras.callbacks import EarlyStopping, ModelCheckpoint\n",
    "\n",
    "# Define early stopping loss\n",
    "early_stopping_loss = EarlyStopping(monitor='val_loss', patience=15, verbose=1, mode='min')\n",
    "\n",
    "# Define early stopping accuracy\n",
    "early_stopping_accuracy = EarlyStopping(monitor='val_accuracy', patience=15, verbose=1, mode='max')\n",
    "\n",
    "# Define model checkpointing\n",
    "model_checkpoint = ModelCheckpoint('best_model.h5', monitor='val_loss', mode='min', verbose=1, save_best_only=True)\n",
    "\n",
    "# Use the generator to augment the data during training\n",
    "history = model.fit(X_train, y_train,\n",
    "                    epochs=100,\n",
    "                    validation_data=(X_valid, y_valid),\n",
    "                    callbacks=[early_stopping_loss, early_stopping_accuracy, model_checkpoint])"
   ]
  },
  {
   "cell_type": "code",
   "execution_count": 41,
   "id": "1bdd1a61-a348-4071-b2b5-8547188e8345",
   "metadata": {},
   "outputs": [
    {
     "name": "stdout",
     "output_type": "stream",
     "text": [
      "10/10 [==============================] - 2s 169ms/step\n",
      "Accuracy: 0.50\n",
      "Precision: 0.25\n",
      "Recall: 0.50\n",
      "\n",
      "Classification Report:\n",
      "              precision    recall  f1-score   support\n",
      "\n",
      "           0       0.50      1.00      0.67       150\n",
      "           1       0.00      0.00      0.00       150\n",
      "\n",
      "    accuracy                           0.50       300\n",
      "   macro avg       0.25      0.50      0.33       300\n",
      "weighted avg       0.25      0.50      0.33       300\n",
      "\n"
     ]
    }
   ],
   "source": [
    "from tensorflow.keras.models import load_model\n",
    "from sklearn.metrics import accuracy_score, precision_score, recall_score, classification_report\n",
    "\n",
    "test_data = X_test\n",
    "test_labels = y_test\n",
    "\n",
    "# Load the best model\n",
    "best_model = load_model('best_model.h5')\n",
    "\n",
    "# Make predictions on the test set\n",
    "y_pred = best_model.predict(test_data)\n",
    "y_pred_classes = np.argmax(y_pred, axis=1)\n",
    "\n",
    "# Calculate the evaluation metrics\n",
    "accuracy = accuracy_score(test_labels, y_pred_classes)\n",
    "precision = precision_score(test_labels, y_pred_classes, average='weighted', zero_division=0)\n",
    "recall = recall_score(test_labels, y_pred_classes, average='weighted')\n",
    "\n",
    "print(f\"Accuracy: {accuracy:.2f}\")\n",
    "print(f\"Precision: {precision:.2f}\")\n",
    "print(f\"Recall: {recall:.2f}\")\n",
    "\n",
    "# Print the classification report\n",
    "print(\"\\nClassification Report:\")\n",
    "print(classification_report(test_labels, y_pred_classes, zero_division=0))"
   ]
  },
  {
   "cell_type": "code",
   "execution_count": 42,
   "id": "9462cf6e-836d-4060-b0b5-c4f6a6fa5b12",
   "metadata": {},
   "outputs": [
    {
     "name": "stdout",
     "output_type": "stream",
     "text": [
      "Test accuracy: 0.7366666666666667\n"
     ]
    }
   ],
   "source": [
    "from sklearn.linear_model import LogisticRegression\n",
    "\n",
    "# Flatten the input images\n",
    "X_train = X_train.reshape(X_train.shape[0], -1)\n",
    "X_test = X_test.reshape(X_test.shape[0], -1)\n",
    "\n",
    "# Create a logistic regression model\n",
    "lr = LogisticRegression(max_iter = 1000)\n",
    "\n",
    "# Train the model on the training set\n",
    "lr.fit(X_train, y_train)\n",
    "\n",
    "# Evaluate the model on the test set\n",
    "score = lr.score(X_test, y_test)\n",
    "print(\"Test accuracy:\", score)"
   ]
  },
  {
   "cell_type": "code",
   "execution_count": 43,
   "id": "ddb7342f-e93a-42d8-86a5-429c9748b287",
   "metadata": {},
   "outputs": [
    {
     "name": "stdout",
     "output_type": "stream",
     "text": [
      "Accuracy: 0.7366666666666667\n",
      "Precision: 0.7472259622080877\n",
      "Recall: 0.7366666666666667\n",
      "F1 score: 0.7338245038690909\n",
      "\n",
      "Classification Report:\n",
      "              precision    recall  f1-score   support\n",
      "\n",
      "           0       0.80      0.63      0.71       150\n",
      "           1       0.70      0.84      0.76       150\n",
      "\n",
      "    accuracy                           0.74       300\n",
      "   macro avg       0.75      0.74      0.73       300\n",
      "weighted avg       0.75      0.74      0.73       300\n",
      "\n"
     ]
    }
   ],
   "source": [
    "from sklearn.linear_model import LogisticRegression\n",
    "from sklearn.metrics import accuracy_score, precision_score, recall_score, f1_score\n",
    "\n",
    "\n",
    "# Reshape test data to 2D array\n",
    "X_test = X_test.reshape(X_test.shape[0], -1)\n",
    "\n",
    "# Create logistic regression model\n",
    "lr_model = LogisticRegression(max_iter = 1000)\n",
    "\n",
    "# Train logistic regression model on training data\n",
    "lr_model.fit(X_train, y_train)\n",
    "\n",
    "# Make predictions on test data\n",
    "y_pred = lr_model.predict(X_test)\n",
    "\n",
    "# Calculate evaluation metrics\n",
    "accuracy = accuracy_score(y_test, y_pred)\n",
    "precision = precision_score(y_test, y_pred, average='weighted')\n",
    "recall = recall_score(y_test, y_pred, average='weighted')\n",
    "f1 = f1_score(y_test, y_pred, average='weighted')\n",
    "\n",
    "# Print evaluation metrics\n",
    "print(\"Accuracy:\", accuracy)\n",
    "print(\"Precision:\", precision)\n",
    "print(\"Recall:\", recall)\n",
    "print(\"F1 score:\", f1)\n",
    "\n",
    "# Print the classification report\n",
    "print(\"\\nClassification Report:\")\n",
    "print(classification_report(test_labels, y_pred, zero_division=0))"
   ]
  },
  {
   "cell_type": "code",
   "execution_count": 44,
   "id": "fa29571f-e131-4036-a5a5-d54ec2553b4b",
   "metadata": {},
   "outputs": [
    {
     "name": "stdout",
     "output_type": "stream",
     "text": [
      "Random Forest Classifier Accuracy: 0.6667\n",
      "Random Forest Classifier Precision: 0.6668\n",
      "Random Forest Classifier Recall: 0.6667\n",
      "Random Forest Classifier F1 Score: 0.6666\n",
      "\n",
      "Classification Report:\n",
      "              precision    recall  f1-score   support\n",
      "\n",
      "           0       0.80      0.63      0.71       150\n",
      "           1       0.70      0.84      0.76       150\n",
      "\n",
      "    accuracy                           0.74       300\n",
      "   macro avg       0.75      0.74      0.73       300\n",
      "weighted avg       0.75      0.74      0.73       300\n",
      "\n"
     ]
    }
   ],
   "source": [
    "from sklearn.ensemble import RandomForestClassifier\n",
    "from sklearn.svm import SVC\n",
    "\n",
    "\n",
    "\n",
    "# Random Forest Classifier\n",
    "rf_clf = RandomForestClassifier(n_estimators=100, random_state=42)\n",
    "rf_clf.fit(X_train, y_train)\n",
    "\n",
    "# Evaluate RF Classifier\n",
    "y_pred_rf = rf_clf.predict(X_test)\n",
    "rf_acc = accuracy_score(y_test, y_pred_rf)\n",
    "rf_precision = precision_score(y_test, y_pred_rf, average='macro')\n",
    "rf_recall = recall_score(y_test, y_pred_rf, average='macro')\n",
    "rf_f1 = f1_score(y_test, y_pred_rf, average='macro')\n",
    "print(\"Random Forest Classifier Accuracy: {:.4f}\".format(rf_acc))\n",
    "print(\"Random Forest Classifier Precision: {:.4f}\".format(rf_precision))\n",
    "print(\"Random Forest Classifier Recall: {:.4f}\".format(rf_recall))\n",
    "print(\"Random Forest Classifier F1 Score: {:.4f}\".format(rf_f1))\n",
    "\n",
    "# Print the classification report\n",
    "print(\"\\nClassification Report:\")\n",
    "print(classification_report(test_labels, y_pred, zero_division=0))"
   ]
  },
  {
   "cell_type": "code",
   "execution_count": 45,
   "id": "20185f0c-0302-4160-bc97-2619e5822166",
   "metadata": {},
   "outputs": [
    {
     "name": "stdout",
     "output_type": "stream",
     "text": [
      "Support Vector Classifier Accuracy: 0.6700\n",
      "Support Vector Classifier Precision: 0.6700\n",
      "Support Vector Classifier Recall: 0.6700\n",
      "Support Vector Classifier F1 Score: 0.6700\n",
      "\n",
      "Classification Report:\n",
      "              precision    recall  f1-score   support\n",
      "\n",
      "           0       0.80      0.63      0.71       150\n",
      "           1       0.70      0.84      0.76       150\n",
      "\n",
      "    accuracy                           0.74       300\n",
      "   macro avg       0.75      0.74      0.73       300\n",
      "weighted avg       0.75      0.74      0.73       300\n",
      "\n"
     ]
    }
   ],
   "source": [
    "# Support Vector Classifier\n",
    "svc_clf = SVC(kernel='rbf', random_state=42)\n",
    "svc_clf.fit(X_train, y_train)\n",
    "\n",
    "# Evaluate SVC Classifier\n",
    "y_pred_svc = svc_clf.predict(X_test)\n",
    "svc_acc = accuracy_score(y_test, y_pred_svc)\n",
    "svc_precision = precision_score(y_test, y_pred_svc, average='macro')\n",
    "svc_recall = recall_score(y_test, y_pred_svc, average='macro')\n",
    "svc_f1 = f1_score(y_test, y_pred_svc, average='macro')\n",
    "print(\"Support Vector Classifier Accuracy: {:.4f}\".format(svc_acc))\n",
    "print(\"Support Vector Classifier Precision: {:.4f}\".format(svc_precision))\n",
    "print(\"Support Vector Classifier Recall: {:.4f}\".format(svc_recall))\n",
    "print(\"Support Vector Classifier F1 Score: {:.4f}\".format(svc_f1))\n",
    "\n",
    "# Print the classification report\n",
    "print(\"\\nClassification Report:\")\n",
    "print(classification_report(test_labels, y_pred, zero_division=0))"
   ]
  }
 ],
 "metadata": {
  "kernelspec": {
   "display_name": "Python 3.10 (tensorflow)",
   "language": "python",
   "name": "tensorflow"
  },
  "language_info": {
   "codemirror_mode": {
    "name": "ipython",
    "version": 3
   },
   "file_extension": ".py",
   "mimetype": "text/x-python",
   "name": "python",
   "nbconvert_exporter": "python",
   "pygments_lexer": "ipython3",
   "version": "3.10.10"
  }
 },
 "nbformat": 4,
 "nbformat_minor": 5
}
